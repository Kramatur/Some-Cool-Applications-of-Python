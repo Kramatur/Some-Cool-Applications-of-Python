{
 "cells": [
  {
   "cell_type": "code",
   "execution_count": null,
   "metadata": {},
   "outputs": [],
   "source": [
    "         ############################################### URL Shortner ################################################\n",
    "\n",
    "#Import necessary Module\n",
    "#pip install pyshorteners --if you haven't installed the 'pyshorteners' library, intall the library first\n",
    "import pyshorteners\n",
    "import emoji\n",
    "\n",
    "#Creating an object to short the URL\n",
    "Short = pyshorteners.Shortener()\n",
    "\n",
    "#Ask user to enter URL wants to short\n",
    "url = input(\"Enter the URL want to download:  \")\n",
    "\n",
    "print(emoji.emojize(\"Congrates, Your Short URL is ready to use :grinning_face_with_big_eyes:\"))\n",
    "print(Short.tinyurl.short(url))"
   ]
  }
 ],
 "metadata": {
  "kernelspec": {
   "display_name": "Python 3",
   "language": "python",
   "name": "python3"
  },
  "language_info": {
   "codemirror_mode": {
    "name": "ipython",
    "version": 3
   },
   "file_extension": ".py",
   "mimetype": "text/x-python",
   "name": "python",
   "nbconvert_exporter": "python",
   "pygments_lexer": "ipython3",
   "version": "3.7.6"
  }
 },
 "nbformat": 4,
 "nbformat_minor": 4
}
